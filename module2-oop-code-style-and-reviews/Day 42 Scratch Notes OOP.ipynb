{
 "cells": [
  {
   "cell_type": "code",
   "execution_count": 3,
   "metadata": {},
   "outputs": [
    {
     "data": {
      "text/plain": [
       "(3.0, -4.5, 9)"
      ]
     },
     "execution_count": 3,
     "metadata": {},
     "output_type": "execute_result"
    }
   ],
   "source": [
    "class Complex:\n",
    "    def __init__(self, realpart, imagpart, huhok):        \n",
    "        self.r = realpart\n",
    "        self.i = imagpart\n",
    "        self.a = huhok\n",
    "\n",
    "x = Complex(3.0, -4.5, 9)\n",
    "x.r, x.i, x.a"
   ]
  },
  {
   "cell_type": "code",
   "execution_count": 4,
   "metadata": {},
   "outputs": [
    {
     "data": {
      "text/plain": [
       "6.0"
      ]
     },
     "execution_count": 4,
     "metadata": {},
     "output_type": "execute_result"
    }
   ],
   "source": [
    "x.a - x.r "
   ]
  },
  {
   "cell_type": "code",
   "execution_count": null,
   "metadata": {},
   "outputs": [],
   "source": [
    "# Rewrite the Complex class with a method add that takes a complex number as an argument \n",
    "# and returns the sum of it with the \n",
    "# complex number it is being called from (self)."
   ]
  },
  {
   "cell_type": "code",
   "execution_count": null,
   "metadata": {},
   "outputs": [],
   "source": [
    "class Complex:\n",
    "    def __init__(self, first second):\n",
    "        "
   ]
  },
  {
   "cell_type": "code",
   "execution_count": null,
   "metadata": {},
   "outputs": [],
   "source": [
    "# my_lambdata/class2.py\n",
    "​\n",
    "import pandas\n",
    "​\n",
    "def convert_names(my_df):\n",
    "    \"\"\"\n",
    "    Creates a new column called \"state_name\" which has the corresponding state name.\n",
    "​\n",
    "    Params my_df (pandas.DataFrame) with with column called \"abbrev\" which has state abbrevs\n",
    "​\n",
    "    See: https://pandas.pydata.org/pandas-docs/stable/reference/api/pandas.Series.map.html\n",
    "    \"\"\"\n",
    "    df = my_df.copy()\n",
    "    names_map = {\n",
    "        \"AL\": \"Alabama\",\n",
    "        \"CT\": \"Conn\",\n",
    "        \"CA\": \"Cali\",\n",
    "        \"CO\": \"Colo\",\n",
    "        \"DC\": \"District of Columbia\"\n",
    "    }\n",
    "    print(type(df[\"abbrev\"])) #> <class 'pandas.core.series.Series'>\n",
    "    df[\"state_name\"] = df[\"abbrev\"].map(names_map)\n",
    "    return df\n",
    "​\n",
    "if __name__ == \"__main__\":\n",
    "​\n",
    "    df = pandas.DataFrame({\"abbrev\": [\"CT\", \"CO\", \"CA\", \"TX\"]})\n",
    "    full_df = convert_names(df)\n",
    "    print(full_df.head())\n",
    "​\n",
    "    df2 = pandas.DataFrame({\"abbrev\": [\"GA\", \"NY\", \"CA\", \"CO\"]})\n",
    "    full_df2 = convert_names(df2)\n"
   ]
  }
 ],
 "metadata": {
  "kernelspec": {
   "display_name": "Python 3",
   "language": "python",
   "name": "python3"
  },
  "language_info": {
   "codemirror_mode": {
    "name": "ipython",
    "version": 3
   },
   "file_extension": ".py",
   "mimetype": "text/x-python",
   "name": "python",
   "nbconvert_exporter": "python",
   "pygments_lexer": "ipython3",
   "version": "3.7.6"
  }
 },
 "nbformat": 4,
 "nbformat_minor": 4
}