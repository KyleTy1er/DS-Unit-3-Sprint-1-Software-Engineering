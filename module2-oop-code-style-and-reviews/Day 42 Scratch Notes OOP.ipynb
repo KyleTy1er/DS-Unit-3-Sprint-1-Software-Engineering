{
 "cells": [
  {
   "cell_type": "code",
   "execution_count": 3,
   "metadata": {},
   "outputs": [
    {
     "data": {
      "text/plain": [
       "(3.0, -4.5, 9)"
      ]
     },
     "execution_count": 3,
     "metadata": {},
     "output_type": "execute_result"
    }
   ],
   "source": [
    "class Complex:\n",
    "    def __init__(self, realpart, imagpart, huhok):        \n",
    "        self.r = realpart\n",
    "        self.i = imagpart\n",
    "        self.a = huhok\n",
    "\n",
    "x = Complex(3.0, -4.5, 9)\n",
    "x.r, x.i, x.a"
   ]
  },
  {
   "cell_type": "code",
   "execution_count": 4,
   "metadata": {},
   "outputs": [
    {
     "data": {
      "text/plain": [
       "6.0"
      ]
     },
     "execution_count": 4,
     "metadata": {},
     "output_type": "execute_result"
    }
   ],
   "source": [
    "x.a - x.r "
   ]
  },
  {
   "cell_type": "code",
   "execution_count": null,
   "metadata": {},
   "outputs": [],
   "source": [
    "# Rewrite the Complex class with a method add that takes a complex number as an argument \n",
    "# and returns the sum of it with the \n",
    "# complex number it is being called from (self)."
   ]
  },
  {
   "cell_type": "code",
   "execution_count": null,
   "metadata": {},
   "outputs": [],
   "source": [
    "class Complex:\n",
    "    def __init__(self, first second):\n",
    "        "
   ]
  },
  {
   "cell_type": "code",
   "execution_count": null,
   "metadata": {},
   "outputs": [],
   "source": [
    "# my_lambdata/class2.py\n",
    "​\n",
    "import pandas\n",
    "​\n",
    "def convert_names(my_df):\n",
    "    \"\"\"\n",
    "    Creates a new column called \"state_name\" which has the corresponding state name.\n",
    "​\n",
    "    Params my_df (pandas.DataFrame) with with column called \"abbrev\" which has state abbrevs\n",
    "​\n",
    "    See: https://pandas.pydata.org/pandas-docs/stable/reference/api/pandas.Series.map.html\n",
    "    \"\"\"\n",
    "    df = my_df.copy()\n",
    "    names_map = {\n",
    "        \"AL\": \"Alabama\",\n",
    "        \"CT\": \"Conn\",\n",
    "        \"CA\": \"Cali\",\n",
    "        \"CO\": \"Colo\",\n",
    "        \"DC\": \"District of Columbia\"\n",
    "    }\n",
    "    print(type(df[\"abbrev\"])) #> <class 'pandas.core.series.Series'>\n",
    "    df[\"state_name\"] = df[\"abbrev\"].map(names_map)\n",
    "    return df\n",
    "​\n",
    "if __name__ == \"__main__\":\n",
    "​\n",
    "    df = pandas.DataFrame({\"abbrev\": [\"CT\", \"CO\", \"CA\", \"TX\"]})\n",
    "    full_df = convert_names(df)\n",
    "    print(full_df.head())\n",
    "​\n",
    "    df2 = pandas.DataFrame({\"abbrev\": [\"GA\", \"NY\", \"CA\", \"CO\"]})\n",
    "    full_df2 = convert_names(df2)\n"
   ]
  },
  {
   "cell_type": "code",
   "execution_count": null,
   "metadata": {},
   "outputs": [],
   "source": [
    "# branch operations and pull requests:\n",
    "\n",
    "git checkout -b my-new-feature # checkout a new branch\n",
    "git add .\n",
    "git commit -m \"Implement feature\"\n",
    "git push origin my-new-feature"
   ]
  },
  {
   "cell_type": "code",
   "execution_count": null,
   "metadata": {},
   "outputs": [],
   "source": [
    "# my_labmdata/teams.py\n",
    "​\n",
    "def full_name(team_dict):\n",
    "    return team[\"city\"] + \" \" + team[\"name\"]\n",
    "​\n",
    "teams = [\n",
    "    {\"name\": \"Yankees\", \"city\": \"New York\"},\n",
    "    {\"name\": \"Mets\", \"city\": \"New York\"},\n",
    "    {\"name\": \"Nationals\", \"city\": \"Washington\"}\n",
    "]\n",
    "​\n",
    "for team in teams:\n",
    "    #print(team[\"city\"] + \" \" + team[\"name\"])\n"
   ]
  },
  {
   "cell_type": "code",
   "execution_count": null,
   "metadata": {},
   "outputs": [],
   "source": [
    "\n",
    "# my_lambdata/polos.py\n",
    "​\n",
    "class Polo():\n",
    "    def __init__(self, color, size, price=99.00, style=None):\n",
    "        self.color = color\n",
    "        self.size = size\n",
    "        self.price = price\n",
    "        self.style = style\n",
    "​\n",
    "if __name__ == \"__main__\":\n",
    "​\n",
    "    #df = DataFrame(...)\n",
    "    # df.head()\n",
    "    polo1 = Polo(color=\"Blue\", size=\"L\", price=4.99)\n",
    "    print(polo1.color)\n",
    "    print(polo1.price)\n",
    "​\n",
    "    polo2 = Polo(color=\"Yello\", size=\"Small\")\n",
    "    print(polo2.color)\n",
    "    print(polo2.price)"
   ]
  },
  {
   "cell_type": "code",
   "execution_count": null,
   "metadata": {},
   "outputs": [],
   "source": [
    "# my_labmdata/teams.py\n",
    "​\n",
    "​\n",
    "class Team():\n",
    "    def __init__(self, name, city, sport=None, roster=[]):\n",
    "        # these are attributes / nouns\n",
    "        self.name = name\n",
    "        self.city = city\n",
    "        self.sport = sport\n",
    "        self.roster = roster\n",
    "​\n",
    "    # this is a property / noun\n",
    "    @property\n",
    "    def full_name(self):\n",
    "        return f\"{team.city} {team.name}\"\n",
    "​\n",
    "    # this is a method / verb\n",
    "    def advertise(self):\n",
    "        print(\"PLEASE COME TO\", self.city.upper(), \"TO SEE US PLAY\")\n",
    "​\n",
    "if __name__ == \"__main__\":\n",
    "​\n",
    "    teams = [\n",
    "        {\"name\": \"Yankees\", \"city\": \"New York\"},\n",
    "        {\"name\": \"Mets\", \"city\": \"New York\"},\n",
    "        {\"name\": \"Nationals\", \"city\": \"Washington\"}\n",
    "    ]\n",
    "​\n",
    "    for d in teams:\n",
    "        #print(team[\"city\"] + \" \" + team[\"name\"])\n",
    "        #print(full_name(team)) #> functional approach\n",
    "        team = Team(d[\"name\"], d[\"city\"])\n",
    "        print(team.name)\n",
    "        print(team.full_name)\n"
   ]
  },
  {
   "cell_type": "code",
   "execution_count": null,
   "metadata": {},
   "outputs": [],
   "source": [
    "class Auto():\n",
    "    def __init__(self, make, model, year, color, num_wheels):\n",
    "        self.make = make\n",
    "        self.model = model\n",
    "        self.year = year\n",
    "        self.color = color\n",
    "        self.num_wheels = num_wheels\n",
    "    def drive(self):\n",
    "        print(\"WE ARE DRIVING\", self.model)\n",
    "if __name__ == \"__main__\":\n",
    "    car = Auto(\"Toyota\", \"Prius\", 2020, \"Blue\", 4)\n",
    "    car.drive()\n",
    "    car2 = Auto(\"Tesla\", \"Model S\", 2020, \"Blue\", 4)\n",
    "    car2.drive()\n",
    "    truck = Auto(\"Ford\", \"F150\", 2020, \"Blue\", 4)\n",
    "    truck.drive()\n",
    "    truck2 = Auto(\"Tesla\", \"Cybertuck\", 2020, \"Blue\", 4)\n",
    "    truck2.drive()"
   ]
  },
  {
   "cell_type": "code",
   "execution_count": null,
   "metadata": {},
   "outputs": [],
   "source": [
    "class Auto():\n",
    "    def __init__(self, make, model, year, color, num_wheels):\n",
    "        self.make = make\n",
    "        self.model = model\n",
    "        self.year = year\n",
    "        self.color = color\n",
    "        self.num_wheels = num_wheels\n",
    "​\n",
    "    def drive(self):\n",
    "        print(\"WE ARE DRIVING\", self.model)\n",
    "​\n",
    "    def advertise(self):\n",
    "        print(\"BUY OUR\", self.model)\n",
    "​\n",
    "class Truck(Auto):\n",
    "    def __init__(self, make, model, year, color, num_wheels, bed_size):\n",
    "        super().__init__(make, model, year, color, num_wheels)\n",
    "        self.bed_size = bed_size\n",
    "​\n",
    "    def advertise(self):\n",
    "        print(\"VROOOOM\", self.model)\n",
    "​\n",
    "if __name__ == \"__main__\":\n",
    "​\n",
    "​\n",
    "    car = Auto(\"Toyota\", \"Prius\", 2020, \"Blue\", 4)\n",
    "    car.drive()\n",
    "    car.advertise()\n",
    "    car2 = Auto(\"Tesla\", \"Model S\", 2020, \"Blue\", 4)\n",
    "    car2.drive()\n",
    "    car2.advertise()\n",
    "​\n",
    "    truck = Truck(\"Ford\", \"F150\", 2020, \"Blue\", 4, bed_size=\"5x5\")\n",
    "    truck.drive()\n",
    "    truck.advertise()\n",
    "    print(truck.bed_size)\n",
    "    truck2 = Truck(\"Tesla\", \"Cybertuck\", 2020, \"Blue\", 4, bed_size=\"10x10\")\n",
    "    truck2.drive()\n",
    "    truck2.advertise()\n",
    "    print(truck2.bed_size)"
   ]
  }
 ],
 "metadata": {
  "kernelspec": {
   "display_name": "Python 3",
   "language": "python",
   "name": "python3"
  },
  "language_info": {
   "codemirror_mode": {
    "name": "ipython",
    "version": 3
   },
   "file_extension": ".py",
   "mimetype": "text/x-python",
   "name": "python",
   "nbconvert_exporter": "python",
   "pygments_lexer": "ipython3",
   "version": "3.7.6"
  }
 },
 "nbformat": 4,
 "nbformat_minor": 4
}